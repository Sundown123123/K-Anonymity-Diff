{
 "cells": [
  {
   "cell_type": "code",
   "execution_count": 1,
   "id": "0aaa9976",
   "metadata": {},
   "outputs": [],
   "source": [
    "import pandas as pd\n",
    "import numpy as np"
   ]
  },
  {
   "cell_type": "code",
   "execution_count": 2,
   "id": "2d87b707",
   "metadata": {},
   "outputs": [],
   "source": [
    "# 属性列名\n",
    "names = (\n",
    "    'age',\n",
    "    'workclass', \n",
    "    'fnlwgt', \n",
    "    'education',\n",
    "    'education-num',\n",
    "    'marital-status',\n",
    "    'occupation',\n",
    "    'relationship',\n",
    "    'race',\n",
    "    'sex',\n",
    "    'capital-gain',\n",
    "    'capital-loss',\n",
    "    'hours-per-week',\n",
    "    'native-country',\n",
    "    'income',\n",
    ")\n",
    "# 分类数据\n",
    "categorical = set((\n",
    "    'workclass',\n",
    "    'education',\n",
    "    'marital-status',\n",
    "    'occupation',\n",
    "    'relationship',\n",
    "    'sex',\n",
    "    'native-country',\n",
    "    'race',\n",
    "    'income',\n",
    "))"
   ]
  },
  {
   "cell_type": "code",
   "execution_count": 3,
   "id": "97be2de5",
   "metadata": {},
   "outputs": [
    {
     "data": {
      "text/plain": [
       "38.58164675532078"
      ]
     },
     "execution_count": 3,
     "metadata": {},
     "output_type": "execute_result"
    }
   ],
   "source": [
    "df = pd.read_csv(\"adult.data.txt\", sep=\", \", header=None, names=names, index_col=False, engine='python')\n",
    "avg_age_1=df['age'].mean()\n",
    "avg_age_1#原数据集平均年龄"
   ]
  },
  {
   "cell_type": "code",
   "execution_count": 4,
   "id": "40521dcb",
   "metadata": {},
   "outputs": [
    {
     "data": {
      "text/plain": [
       "0.0015791877532151943"
      ]
     },
     "execution_count": 4,
     "metadata": {},
     "output_type": "execute_result"
    }
   ],
   "source": [
    "#敏感度\n",
    "avg_age_1-(avg_age_1*32561-90)/32560"
   ]
  },
  {
   "cell_type": "code",
   "execution_count": 5,
   "id": "05f9e1ef",
   "metadata": {},
   "outputs": [
    {
     "data": {
      "text/html": [
       "<div>\n",
       "<style scoped>\n",
       "    .dataframe tbody tr th:only-of-type {\n",
       "        vertical-align: middle;\n",
       "    }\n",
       "\n",
       "    .dataframe tbody tr th {\n",
       "        vertical-align: top;\n",
       "    }\n",
       "\n",
       "    .dataframe thead th {\n",
       "        text-align: right;\n",
       "    }\n",
       "</style>\n",
       "<table border=\"1\" class=\"dataframe\">\n",
       "  <thead>\n",
       "    <tr style=\"text-align: right;\">\n",
       "      <th></th>\n",
       "      <th>age</th>\n",
       "      <th>count</th>\n",
       "    </tr>\n",
       "  </thead>\n",
       "  <tbody>\n",
       "    <tr>\n",
       "      <th>0</th>\n",
       "      <td>17.000000</td>\n",
       "      <td>6</td>\n",
       "    </tr>\n",
       "    <tr>\n",
       "      <th>1</th>\n",
       "      <td>17.000000</td>\n",
       "      <td>5</td>\n",
       "    </tr>\n",
       "    <tr>\n",
       "      <th>2</th>\n",
       "      <td>17.000000</td>\n",
       "      <td>5</td>\n",
       "    </tr>\n",
       "    <tr>\n",
       "      <th>3</th>\n",
       "      <td>17.000000</td>\n",
       "      <td>6</td>\n",
       "    </tr>\n",
       "    <tr>\n",
       "      <th>4</th>\n",
       "      <td>17.000000</td>\n",
       "      <td>5</td>\n",
       "    </tr>\n",
       "    <tr>\n",
       "      <th>...</th>\n",
       "      <td>...</td>\n",
       "      <td>...</td>\n",
       "    </tr>\n",
       "    <tr>\n",
       "      <th>7699</th>\n",
       "      <td>79.833333</td>\n",
       "      <td>5</td>\n",
       "    </tr>\n",
       "    <tr>\n",
       "      <th>7700</th>\n",
       "      <td>79.833333</td>\n",
       "      <td>1</td>\n",
       "    </tr>\n",
       "    <tr>\n",
       "      <th>7701</th>\n",
       "      <td>81.000000</td>\n",
       "      <td>3</td>\n",
       "    </tr>\n",
       "    <tr>\n",
       "      <th>7702</th>\n",
       "      <td>81.000000</td>\n",
       "      <td>3</td>\n",
       "    </tr>\n",
       "    <tr>\n",
       "      <th>7703</th>\n",
       "      <td>81.600000</td>\n",
       "      <td>5</td>\n",
       "    </tr>\n",
       "  </tbody>\n",
       "</table>\n",
       "<p>7704 rows × 2 columns</p>\n",
       "</div>"
      ],
      "text/plain": [
       "            age  count\n",
       "0     17.000000      6\n",
       "1     17.000000      5\n",
       "2     17.000000      5\n",
       "3     17.000000      6\n",
       "4     17.000000      5\n",
       "...         ...    ...\n",
       "7699  79.833333      5\n",
       "7700  79.833333      1\n",
       "7701  81.000000      3\n",
       "7702  81.000000      3\n",
       "7703  81.600000      5\n",
       "\n",
       "[7704 rows x 2 columns]"
      ]
     },
     "execution_count": 5,
     "metadata": {},
     "output_type": "execute_result"
    }
   ],
   "source": [
    "dfn = pd.read_csv(\"out.csv\", sep=\",\", index_col=False, engine='python')\n",
    "dfn=dfn.iloc[:,[1,-1]]\n",
    "dfn"
   ]
  },
  {
   "cell_type": "code",
   "execution_count": 6,
   "id": "7c8097ff",
   "metadata": {},
   "outputs": [
    {
     "data": {
      "text/plain": [
       "38.58164675532078"
      ]
     },
     "execution_count": 6,
     "metadata": {},
     "output_type": "execute_result"
    }
   ],
   "source": [
    "sage=0\n",
    "scnt=0\n",
    "avg_age_2=0\n",
    "for row in dfn.itertuples():\n",
    "    sage+=row[1]*row[2]\n",
    "    scnt+=row[2]\n",
    "avg_age=sage/scnt\n",
    "avg_age_2=avg_age\n",
    "avg_age_2#原数据集平均年龄"
   ]
  },
  {
   "cell_type": "code",
   "execution_count": 7,
   "id": "69909d7d",
   "metadata": {},
   "outputs": [],
   "source": [
    "def add_laplace_noise(data_list, μ=0, b=1):\n",
    "    laplace_noise = np.random.laplace(μ, b, len(data_list)) # 为原始数据添加μ为0，b为1的噪声\n",
    "    res=np.append((laplace_noise+data_list.T[0]),data_list.T[1]).T\n",
    "    return res.reshape(2,len(data_list)).T\n",
    "\n",
    "def age_mean(a):\n",
    "    sage=0\n",
    "    scnt=0\n",
    "    for row in a:\n",
    "        sage+=row[0]*row[1]\n",
    "        scnt+=row[1]\n",
    "    return sage/scnt\n",
    "\n",
    "data1 = dfn.to_numpy()"
   ]
  },
  {
   "cell_type": "code",
   "execution_count": 8,
   "id": "0da769ad",
   "metadata": {},
   "outputs": [
    {
     "name": "stdout",
     "output_type": "stream",
     "text": [
      "7704\n",
      "原始无噪声数据|均值：38.58164675532078\n",
      "加噪声后的数据|均值：38.57278048586883\n",
      "7703\n",
      "原始无噪声数据|均值：38.57503993119548\n",
      "加噪声后的数据|均值：38.60613845349341\n"
     ]
    }
   ],
   "source": [
    "data=data1\n",
    "print(len(data))\n",
    "print(\"原始无噪声数据|均值：\" + str(age_mean(data)))\n",
    "x1=age_mean(data)\n",
    "noise_list = add_laplace_noise(data)\n",
    "print(\"加噪声后的数据|均值：\" + str(age_mean(noise_list)))\n",
    "y1=age_mean(noise_list)\n",
    "data=np.delete(data,-1,axis=0)\n",
    "print(len(data))\n",
    "print(\"原始无噪声数据|均值：\" + str(age_mean(data)))\n",
    "x2=age_mean(data)\n",
    "noise_list = add_laplace_noise(data)\n",
    "print(\"加噪声后的数据|均值：\" + str(age_mean(noise_list)))\n",
    "y2=age_mean(noise_list)"
   ]
  },
  {
   "cell_type": "code",
   "execution_count": 9,
   "id": "ee29b3dd",
   "metadata": {},
   "outputs": [
    {
     "data": {
      "text/plain": [
       "81.6"
      ]
     },
     "execution_count": 9,
     "metadata": {},
     "output_type": "execute_result"
    }
   ],
   "source": [
    "(x1*32561-x2*32556)/5"
   ]
  },
  {
   "cell_type": "code",
   "execution_count": 10,
   "id": "910be9ca",
   "metadata": {},
   "outputs": [
    {
     "data": {
      "text/plain": [
       "-178.62761831125243"
      ]
     },
     "execution_count": 10,
     "metadata": {},
     "output_type": "execute_result"
    }
   ],
   "source": [
    "(y1*32561-y2*32556)/5"
   ]
  },
  {
   "cell_type": "code",
   "execution_count": null,
   "id": "0cecbc01",
   "metadata": {},
   "outputs": [],
   "source": []
  }
 ],
 "metadata": {
  "interpreter": {
   "hash": "a4868653bb6f8972e87e4c446ab8a445a15b25dedb8594cc74c480f8152ea86a"
  },
  "kernelspec": {
   "display_name": "Python 3.8.0 64-bit",
   "language": "python",
   "name": "python3"
  },
  "language_info": {
   "codemirror_mode": {
    "name": "ipython",
    "version": 3
   },
   "file_extension": ".py",
   "mimetype": "text/x-python",
   "name": "python",
   "nbconvert_exporter": "python",
   "pygments_lexer": "ipython3",
   "version": "3.8.0"
  }
 },
 "nbformat": 4,
 "nbformat_minor": 5
}
